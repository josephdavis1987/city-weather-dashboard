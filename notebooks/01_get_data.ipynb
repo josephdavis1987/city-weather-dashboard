{
 "cells": [
  {
   "cell_type": "code",
   "execution_count": 2,
   "id": "03ae0d87",
   "metadata": {},
   "outputs": [
    {
     "data": {
      "text/plain": [
       "['type', 'geometry', 'properties', 'header', 'messages', 'parameters', 'times']"
      ]
     },
     "execution_count": 2,
     "metadata": {},
     "output_type": "execute_result"
    }
   ],
   "source": [
    "import requests\n",
    "import pandas as pd\n",
    "from pathlib import Path\n",
    "import json\n",
    "\n",
    "\n",
    "# Set up output directory\n",
    "data_dir = Path(\"../data\")\n",
    "data_dir.mkdir(parents=True, exist_ok=True)\n",
    "\n",
    "# Example location (e.g., Nashville, TN)\n",
    "latitude = 36.1627\n",
    "longitude = -86.7816\n",
    "\n",
    "# NASA POWER API base URL for climatology (daily averages)\n",
    "url = (\n",
    "    f\"https://power.larc.nasa.gov/api/temporal/daily/point\"\n",
    "    f\"?parameters=T2M_MAX,T2M_MIN,PRECTOTCORR\"\n",
    "    f\"&community=AG\"\n",
    "    f\"&longitude={longitude}&latitude={latitude}\"\n",
    "    f\"&start=20220101&end=20231231\"\n",
    "    f\"&format=JSON\"\n",
    ")\n",
    "\n",
    "response = requests.get(url)\n",
    "data = response.json()\n",
    "\n",
    "# Preview the keys\n",
    "list(data.keys())\n"
   ]
  },
  {
   "cell_type": "code",
   "execution_count": 3,
   "id": "24d067fb",
   "metadata": {},
   "outputs": [],
   "source": [
    "import json\n",
    "\n",
    "# Save the API response to a JSON file\n",
    "with open(data_dir / \"nasa_power_response.json\", \"w\") as f:\n",
    "    json.dump(data, f, indent=2)"
   ]
  },
  {
   "cell_type": "code",
   "execution_count": 4,
   "id": "bb414813",
   "metadata": {},
   "outputs": [
    {
     "data": {
      "text/plain": [
       "{'units': 'mm/day', 'longname': 'Precipitation Corrected'}"
      ]
     },
     "execution_count": 4,
     "metadata": {},
     "output_type": "execute_result"
    }
   ],
   "source": [
    "#data['parameters'].keys()\n",
    "\n",
    "data['parameters']['PRECTOTCORR']\n",
    "\n"
   ]
  },
  {
   "cell_type": "code",
   "execution_count": 5,
   "id": "e4de1c6d",
   "metadata": {},
   "outputs": [
    {
     "data": {
      "text/html": [
       "<div>\n",
       "<style scoped>\n",
       "    .dataframe tbody tr th:only-of-type {\n",
       "        vertical-align: middle;\n",
       "    }\n",
       "\n",
       "    .dataframe tbody tr th {\n",
       "        vertical-align: top;\n",
       "    }\n",
       "\n",
       "    .dataframe thead th {\n",
       "        text-align: right;\n",
       "    }\n",
       "</style>\n",
       "<table border=\"1\" class=\"dataframe\">\n",
       "  <thead>\n",
       "    <tr style=\"text-align: right;\">\n",
       "      <th></th>\n",
       "      <th>T2M_MAX</th>\n",
       "      <th>T2M_MIN</th>\n",
       "      <th>PRECTOTCORR</th>\n",
       "    </tr>\n",
       "    <tr>\n",
       "      <th>date</th>\n",
       "      <th></th>\n",
       "      <th></th>\n",
       "      <th></th>\n",
       "    </tr>\n",
       "  </thead>\n",
       "  <tbody>\n",
       "    <tr>\n",
       "      <th>2022-01-01</th>\n",
       "      <td>23.35</td>\n",
       "      <td>12.98</td>\n",
       "      <td>33.73</td>\n",
       "    </tr>\n",
       "    <tr>\n",
       "      <th>2022-01-02</th>\n",
       "      <td>11.74</td>\n",
       "      <td>-0.71</td>\n",
       "      <td>9.67</td>\n",
       "    </tr>\n",
       "    <tr>\n",
       "      <th>2022-01-03</th>\n",
       "      <td>1.98</td>\n",
       "      <td>-5.26</td>\n",
       "      <td>0.82</td>\n",
       "    </tr>\n",
       "    <tr>\n",
       "      <th>2022-01-04</th>\n",
       "      <td>5.66</td>\n",
       "      <td>-6.86</td>\n",
       "      <td>0.54</td>\n",
       "    </tr>\n",
       "    <tr>\n",
       "      <th>2022-01-05</th>\n",
       "      <td>10.60</td>\n",
       "      <td>-1.61</td>\n",
       "      <td>0.93</td>\n",
       "    </tr>\n",
       "  </tbody>\n",
       "</table>\n",
       "</div>"
      ],
      "text/plain": [
       "            T2M_MAX  T2M_MIN  PRECTOTCORR\n",
       "date                                     \n",
       "2022-01-01    23.35    12.98        33.73\n",
       "2022-01-02    11.74    -0.71         9.67\n",
       "2022-01-03     1.98    -5.26         0.82\n",
       "2022-01-04     5.66    -6.86         0.54\n",
       "2022-01-05    10.60    -1.61         0.93"
      ]
     },
     "execution_count": 5,
     "metadata": {},
     "output_type": "execute_result"
    }
   ],
   "source": [
    "# Extract the parameter data\n",
    "params = data['properties']['parameter']\n",
    "\n",
    "# Get all dates (keys) from one of the parameters\n",
    "dates = list(params['T2M_MAX'].keys())\n",
    "\n",
    "# Build a DataFrame\n",
    "df = pd.DataFrame({\n",
    "    'date': pd.to_datetime(dates, format='%Y%m%d'),\n",
    "    'T2M_MAX': [params['T2M_MAX'][d] for d in dates],\n",
    "    'T2M_MIN': [params['T2M_MIN'][d] for d in dates],\n",
    "    'PRECTOTCORR': [params['PRECTOTCORR'][d] for d in dates],\n",
    "})\n",
    "\n",
    "# Set the date as the index\n",
    "df.set_index('date', inplace=True)\n",
    "\n",
    "# Preview the DataFrame\n",
    "df.head()"
   ]
  },
  {
   "cell_type": "code",
   "execution_count": 6,
   "id": "59a4fe15",
   "metadata": {},
   "outputs": [
    {
     "data": {
      "text/html": [
       "<div>\n",
       "<style scoped>\n",
       "    .dataframe tbody tr th:only-of-type {\n",
       "        vertical-align: middle;\n",
       "    }\n",
       "\n",
       "    .dataframe tbody tr th {\n",
       "        vertical-align: top;\n",
       "    }\n",
       "\n",
       "    .dataframe thead th {\n",
       "        text-align: right;\n",
       "    }\n",
       "</style>\n",
       "<table border=\"1\" class=\"dataframe\">\n",
       "  <thead>\n",
       "    <tr style=\"text-align: right;\">\n",
       "      <th></th>\n",
       "      <th>T2M_MAX</th>\n",
       "      <th>T2M_MIN</th>\n",
       "      <th>PRECTOTCORR</th>\n",
       "      <th>year</th>\n",
       "      <th>day_of_year</th>\n",
       "    </tr>\n",
       "    <tr>\n",
       "      <th>date</th>\n",
       "      <th></th>\n",
       "      <th></th>\n",
       "      <th></th>\n",
       "      <th></th>\n",
       "      <th></th>\n",
       "    </tr>\n",
       "  </thead>\n",
       "  <tbody>\n",
       "    <tr>\n",
       "      <th>2022-01-01</th>\n",
       "      <td>23.35</td>\n",
       "      <td>12.98</td>\n",
       "      <td>33.73</td>\n",
       "      <td>2022</td>\n",
       "      <td>1</td>\n",
       "    </tr>\n",
       "    <tr>\n",
       "      <th>2022-01-02</th>\n",
       "      <td>11.74</td>\n",
       "      <td>-0.71</td>\n",
       "      <td>9.67</td>\n",
       "      <td>2022</td>\n",
       "      <td>2</td>\n",
       "    </tr>\n",
       "    <tr>\n",
       "      <th>2022-01-03</th>\n",
       "      <td>1.98</td>\n",
       "      <td>-5.26</td>\n",
       "      <td>0.82</td>\n",
       "      <td>2022</td>\n",
       "      <td>3</td>\n",
       "    </tr>\n",
       "    <tr>\n",
       "      <th>2022-01-04</th>\n",
       "      <td>5.66</td>\n",
       "      <td>-6.86</td>\n",
       "      <td>0.54</td>\n",
       "      <td>2022</td>\n",
       "      <td>4</td>\n",
       "    </tr>\n",
       "    <tr>\n",
       "      <th>2022-01-05</th>\n",
       "      <td>10.60</td>\n",
       "      <td>-1.61</td>\n",
       "      <td>0.93</td>\n",
       "      <td>2022</td>\n",
       "      <td>5</td>\n",
       "    </tr>\n",
       "  </tbody>\n",
       "</table>\n",
       "</div>"
      ],
      "text/plain": [
       "            T2M_MAX  T2M_MIN  PRECTOTCORR  year  day_of_year\n",
       "date                                                        \n",
       "2022-01-01    23.35    12.98        33.73  2022            1\n",
       "2022-01-02    11.74    -0.71         9.67  2022            2\n",
       "2022-01-03     1.98    -5.26         0.82  2022            3\n",
       "2022-01-04     5.66    -6.86         0.54  2022            4\n",
       "2022-01-05    10.60    -1.61         0.93  2022            5"
      ]
     },
     "execution_count": 6,
     "metadata": {},
     "output_type": "execute_result"
    }
   ],
   "source": [
    "# Add year and day_of_year columns\n",
    "df['year'] = df.index.year\n",
    "df['day_of_year'] = df.index.dayofyear\n",
    "\n",
    "# Preview the DataFrame\n",
    "df.head()"
   ]
  },
  {
   "cell_type": "code",
   "execution_count": 8,
   "id": "3344ca60",
   "metadata": {},
   "outputs": [
    {
     "data": {
      "application/vnd.plotly.v1+json": {
       "config": {
        "plotlyServerURL": "https://plot.ly"
       },
       "data": [
        {
         "hovertemplate": "Day of Year=%{x}<br>T2M_MIN=%{y}<extra></extra>",
         "legendgroup": "",
         "line": {
          "color": "#636efa",
          "dash": "solid"
         },
         "marker": {
          "symbol": "circle"
         },
         "mode": "lines",
         "name": "",
         "orientation": "v",
         "showlegend": false,
         "type": "scatter",
         "x": {
          "bdata": "AQAAAAIAAAADAAAABAAAAAUAAAAGAAAABwAAAAgAAAAJAAAACgAAAAsAAAAMAAAADQAAAA4AAAAPAAAAEAAAABEAAAASAAAAEwAAABQAAAAVAAAAFgAAABcAAAAYAAAAGQAAABoAAAAbAAAAHAAAAB0AAAAeAAAAHwAAACAAAAAhAAAAIgAAACMAAAAkAAAAJQAAACYAAAAnAAAAKAAAACkAAAAqAAAAKwAAACwAAAAtAAAALgAAAC8AAAAwAAAAMQAAADIAAAAzAAAANAAAADUAAAA2AAAANwAAADgAAAA5AAAAOgAAADsAAAA8AAAAPQAAAD4AAAA/AAAAQAAAAEEAAABCAAAAQwAAAEQAAABFAAAARgAAAEcAAABIAAAASQAAAEoAAABLAAAATAAAAE0AAABOAAAATwAAAFAAAABRAAAAUgAAAFMAAABUAAAAVQAAAFYAAABXAAAAWAAAAFkAAABaAAAAWwAAAFwAAABdAAAAXgAAAF8AAABgAAAAYQAAAGIAAABjAAAAZAAAAGUAAABmAAAAZwAAAGgAAABpAAAAagAAAGsAAABsAAAAbQAAAG4AAABvAAAAcAAAAHEAAAByAAAAcwAAAHQAAAB1AAAAdgAAAHcAAAB4AAAAeQAAAHoAAAB7AAAAfAAAAH0AAAB+AAAAfwAAAIAAAACBAAAAggAAAIMAAACEAAAAhQAAAIYAAACHAAAAiAAAAIkAAACKAAAAiwAAAIwAAACNAAAAjgAAAI8AAACQAAAAkQAAAJIAAACTAAAAlAAAAJUAAACWAAAAlwAAAJgAAACZAAAAmgAAAJsAAACcAAAAnQAAAJ4AAACfAAAAoAAAAKEAAACiAAAAowAAAKQAAAClAAAApgAAAKcAAACoAAAAqQAAAKoAAACrAAAArAAAAK0AAACuAAAArwAAALAAAACxAAAAsgAAALMAAAC0AAAAtQAAALYAAAC3AAAAuAAAALkAAAC6AAAAuwAAALwAAAC9AAAAvgAAAL8AAADAAAAAwQAAAMIAAADDAAAAxAAAAMUAAADGAAAAxwAAAMgAAADJAAAAygAAAMsAAADMAAAAzQAAAM4AAADPAAAA0AAAANEAAADSAAAA0wAAANQAAADVAAAA1gAAANcAAADYAAAA2QAAANoAAADbAAAA3AAAAN0AAADeAAAA3wAAAOAAAADhAAAA4gAAAOMAAADkAAAA5QAAAOYAAADnAAAA6AAAAOkAAADqAAAA6wAAAOwAAADtAAAA7gAAAO8AAADwAAAA8QAAAPIAAADzAAAA9AAAAPUAAAD2AAAA9wAAAPgAAAD5AAAA+gAAAPsAAAD8AAAA/QAAAP4AAAD/AAAAAAEAAAEBAAACAQAAAwEAAAQBAAAFAQAABgEAAAcBAAAIAQAACQEAAAoBAAALAQAADAEAAA0BAAAOAQAADwEAABABAAARAQAAEgEAABMBAAAUAQAAFQEAABYBAAAXAQAAGAEAABkBAAAaAQAAGwEAABwBAAAdAQAAHgEAAB8BAAAgAQAAIQEAACIBAAAjAQAAJAEAACUBAAAmAQAAJwEAACgBAAApAQAAKgEAACsBAAAsAQAALQEAAC4BAAAvAQAAMAEAADEBAAAyAQAAMwEAADQBAAA1AQAANgEAADcBAAA4AQAAOQEAADoBAAA7AQAAPAEAAD0BAAA+AQAAPwEAAEABAABBAQAAQgEAAEMBAABEAQAARQEAAEYBAABHAQAASAEAAEkBAABKAQAASwEAAEwBAABNAQAATgEAAE8BAABQAQAAUQEAAFIBAABTAQAAVAEAAFUBAABWAQAAVwEAAFgBAABZAQAAWgEAAFsBAABcAQAAXQEAAF4BAABfAQAAYAEAAGEBAABiAQAAYwEAAGQBAABlAQAAZgEAAGcBAABoAQAAaQEAAGoBAABrAQAAbAEAAG0BAAA=",
          "dtype": "i4"
         },
         "xaxis": "x",
         "y": {
          "bdata": "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",
          "dtype": "f8"
         },
         "yaxis": "y"
        }
       ],
       "layout": {
        "legend": {
         "tracegroupgap": 0
        },
        "template": {
         "data": {
          "bar": [
           {
            "error_x": {
             "color": "#2a3f5f"
            },
            "error_y": {
             "color": "#2a3f5f"
            },
            "marker": {
             "line": {
              "color": "#E5ECF6",
              "width": 0.5
             },
             "pattern": {
              "fillmode": "overlay",
              "size": 10,
              "solidity": 0.2
             }
            },
            "type": "bar"
           }
          ],
          "barpolar": [
           {
            "marker": {
             "line": {
              "color": "#E5ECF6",
              "width": 0.5
             },
             "pattern": {
              "fillmode": "overlay",
              "size": 10,
              "solidity": 0.2
             }
            },
            "type": "barpolar"
           }
          ],
          "carpet": [
           {
            "aaxis": {
             "endlinecolor": "#2a3f5f",
             "gridcolor": "white",
             "linecolor": "white",
             "minorgridcolor": "white",
             "startlinecolor": "#2a3f5f"
            },
            "baxis": {
             "endlinecolor": "#2a3f5f",
             "gridcolor": "white",
             "linecolor": "white",
             "minorgridcolor": "white",
             "startlinecolor": "#2a3f5f"
            },
            "type": "carpet"
           }
          ],
          "choropleth": [
           {
            "colorbar": {
             "outlinewidth": 0,
             "ticks": ""
            },
            "type": "choropleth"
           }
          ],
          "contour": [
           {
            "colorbar": {
             "outlinewidth": 0,
             "ticks": ""
            },
            "colorscale": [
             [
              0,
              "#0d0887"
             ],
             [
              0.1111111111111111,
              "#46039f"
             ],
             [
              0.2222222222222222,
              "#7201a8"
             ],
             [
              0.3333333333333333,
              "#9c179e"
             ],
             [
              0.4444444444444444,
              "#bd3786"
             ],
             [
              0.5555555555555556,
              "#d8576b"
             ],
             [
              0.6666666666666666,
              "#ed7953"
             ],
             [
              0.7777777777777778,
              "#fb9f3a"
             ],
             [
              0.8888888888888888,
              "#fdca26"
             ],
             [
              1,
              "#f0f921"
             ]
            ],
            "type": "contour"
           }
          ],
          "contourcarpet": [
           {
            "colorbar": {
             "outlinewidth": 0,
             "ticks": ""
            },
            "type": "contourcarpet"
           }
          ],
          "heatmap": [
           {
            "colorbar": {
             "outlinewidth": 0,
             "ticks": ""
            },
            "colorscale": [
             [
              0,
              "#0d0887"
             ],
             [
              0.1111111111111111,
              "#46039f"
             ],
             [
              0.2222222222222222,
              "#7201a8"
             ],
             [
              0.3333333333333333,
              "#9c179e"
             ],
             [
              0.4444444444444444,
              "#bd3786"
             ],
             [
              0.5555555555555556,
              "#d8576b"
             ],
             [
              0.6666666666666666,
              "#ed7953"
             ],
             [
              0.7777777777777778,
              "#fb9f3a"
             ],
             [
              0.8888888888888888,
              "#fdca26"
             ],
             [
              1,
              "#f0f921"
             ]
            ],
            "type": "heatmap"
           }
          ],
          "histogram": [
           {
            "marker": {
             "pattern": {
              "fillmode": "overlay",
              "size": 10,
              "solidity": 0.2
             }
            },
            "type": "histogram"
           }
          ],
          "histogram2d": [
           {
            "colorbar": {
             "outlinewidth": 0,
             "ticks": ""
            },
            "colorscale": [
             [
              0,
              "#0d0887"
             ],
             [
              0.1111111111111111,
              "#46039f"
             ],
             [
              0.2222222222222222,
              "#7201a8"
             ],
             [
              0.3333333333333333,
              "#9c179e"
             ],
             [
              0.4444444444444444,
              "#bd3786"
             ],
             [
              0.5555555555555556,
              "#d8576b"
             ],
             [
              0.6666666666666666,
              "#ed7953"
             ],
             [
              0.7777777777777778,
              "#fb9f3a"
             ],
             [
              0.8888888888888888,
              "#fdca26"
             ],
             [
              1,
              "#f0f921"
             ]
            ],
            "type": "histogram2d"
           }
          ],
          "histogram2dcontour": [
           {
            "colorbar": {
             "outlinewidth": 0,
             "ticks": ""
            },
            "colorscale": [
             [
              0,
              "#0d0887"
             ],
             [
              0.1111111111111111,
              "#46039f"
             ],
             [
              0.2222222222222222,
              "#7201a8"
             ],
             [
              0.3333333333333333,
              "#9c179e"
             ],
             [
              0.4444444444444444,
              "#bd3786"
             ],
             [
              0.5555555555555556,
              "#d8576b"
             ],
             [
              0.6666666666666666,
              "#ed7953"
             ],
             [
              0.7777777777777778,
              "#fb9f3a"
             ],
             [
              0.8888888888888888,
              "#fdca26"
             ],
             [
              1,
              "#f0f921"
             ]
            ],
            "type": "histogram2dcontour"
           }
          ],
          "mesh3d": [
           {
            "colorbar": {
             "outlinewidth": 0,
             "ticks": ""
            },
            "type": "mesh3d"
           }
          ],
          "parcoords": [
           {
            "line": {
             "colorbar": {
              "outlinewidth": 0,
              "ticks": ""
             }
            },
            "type": "parcoords"
           }
          ],
          "pie": [
           {
            "automargin": true,
            "type": "pie"
           }
          ],
          "scatter": [
           {
            "fillpattern": {
             "fillmode": "overlay",
             "size": 10,
             "solidity": 0.2
            },
            "type": "scatter"
           }
          ],
          "scatter3d": [
           {
            "line": {
             "colorbar": {
              "outlinewidth": 0,
              "ticks": ""
             }
            },
            "marker": {
             "colorbar": {
              "outlinewidth": 0,
              "ticks": ""
             }
            },
            "type": "scatter3d"
           }
          ],
          "scattercarpet": [
           {
            "marker": {
             "colorbar": {
              "outlinewidth": 0,
              "ticks": ""
             }
            },
            "type": "scattercarpet"
           }
          ],
          "scattergeo": [
           {
            "marker": {
             "colorbar": {
              "outlinewidth": 0,
              "ticks": ""
             }
            },
            "type": "scattergeo"
           }
          ],
          "scattergl": [
           {
            "marker": {
             "colorbar": {
              "outlinewidth": 0,
              "ticks": ""
             }
            },
            "type": "scattergl"
           }
          ],
          "scattermap": [
           {
            "marker": {
             "colorbar": {
              "outlinewidth": 0,
              "ticks": ""
             }
            },
            "type": "scattermap"
           }
          ],
          "scattermapbox": [
           {
            "marker": {
             "colorbar": {
              "outlinewidth": 0,
              "ticks": ""
             }
            },
            "type": "scattermapbox"
           }
          ],
          "scatterpolar": [
           {
            "marker": {
             "colorbar": {
              "outlinewidth": 0,
              "ticks": ""
             }
            },
            "type": "scatterpolar"
           }
          ],
          "scatterpolargl": [
           {
            "marker": {
             "colorbar": {
              "outlinewidth": 0,
              "ticks": ""
             }
            },
            "type": "scatterpolargl"
           }
          ],
          "scatterternary": [
           {
            "marker": {
             "colorbar": {
              "outlinewidth": 0,
              "ticks": ""
             }
            },
            "type": "scatterternary"
           }
          ],
          "surface": [
           {
            "colorbar": {
             "outlinewidth": 0,
             "ticks": ""
            },
            "colorscale": [
             [
              0,
              "#0d0887"
             ],
             [
              0.1111111111111111,
              "#46039f"
             ],
             [
              0.2222222222222222,
              "#7201a8"
             ],
             [
              0.3333333333333333,
              "#9c179e"
             ],
             [
              0.4444444444444444,
              "#bd3786"
             ],
             [
              0.5555555555555556,
              "#d8576b"
             ],
             [
              0.6666666666666666,
              "#ed7953"
             ],
             [
              0.7777777777777778,
              "#fb9f3a"
             ],
             [
              0.8888888888888888,
              "#fdca26"
             ],
             [
              1,
              "#f0f921"
             ]
            ],
            "type": "surface"
           }
          ],
          "table": [
           {
            "cells": {
             "fill": {
              "color": "#EBF0F8"
             },
             "line": {
              "color": "white"
             }
            },
            "header": {
             "fill": {
              "color": "#C8D4E3"
             },
             "line": {
              "color": "white"
             }
            },
            "type": "table"
           }
          ]
         },
         "layout": {
          "annotationdefaults": {
           "arrowcolor": "#2a3f5f",
           "arrowhead": 0,
           "arrowwidth": 1
          },
          "autotypenumbers": "strict",
          "coloraxis": {
           "colorbar": {
            "outlinewidth": 0,
            "ticks": ""
           }
          },
          "colorscale": {
           "diverging": [
            [
             0,
             "#8e0152"
            ],
            [
             0.1,
             "#c51b7d"
            ],
            [
             0.2,
             "#de77ae"
            ],
            [
             0.3,
             "#f1b6da"
            ],
            [
             0.4,
             "#fde0ef"
            ],
            [
             0.5,
             "#f7f7f7"
            ],
            [
             0.6,
             "#e6f5d0"
            ],
            [
             0.7,
             "#b8e186"
            ],
            [
             0.8,
             "#7fbc41"
            ],
            [
             0.9,
             "#4d9221"
            ],
            [
             1,
             "#276419"
            ]
           ],
           "sequential": [
            [
             0,
             "#0d0887"
            ],
            [
             0.1111111111111111,
             "#46039f"
            ],
            [
             0.2222222222222222,
             "#7201a8"
            ],
            [
             0.3333333333333333,
             "#9c179e"
            ],
            [
             0.4444444444444444,
             "#bd3786"
            ],
            [
             0.5555555555555556,
             "#d8576b"
            ],
            [
             0.6666666666666666,
             "#ed7953"
            ],
            [
             0.7777777777777778,
             "#fb9f3a"
            ],
            [
             0.8888888888888888,
             "#fdca26"
            ],
            [
             1,
             "#f0f921"
            ]
           ],
           "sequentialminus": [
            [
             0,
             "#0d0887"
            ],
            [
             0.1111111111111111,
             "#46039f"
            ],
            [
             0.2222222222222222,
             "#7201a8"
            ],
            [
             0.3333333333333333,
             "#9c179e"
            ],
            [
             0.4444444444444444,
             "#bd3786"
            ],
            [
             0.5555555555555556,
             "#d8576b"
            ],
            [
             0.6666666666666666,
             "#ed7953"
            ],
            [
             0.7777777777777778,
             "#fb9f3a"
            ],
            [
             0.8888888888888888,
             "#fdca26"
            ],
            [
             1,
             "#f0f921"
            ]
           ]
          },
          "colorway": [
           "#636efa",
           "#EF553B",
           "#00cc96",
           "#ab63fa",
           "#FFA15A",
           "#19d3f3",
           "#FF6692",
           "#B6E880",
           "#FF97FF",
           "#FECB52"
          ],
          "font": {
           "color": "#2a3f5f"
          },
          "geo": {
           "bgcolor": "white",
           "lakecolor": "white",
           "landcolor": "#E5ECF6",
           "showlakes": true,
           "showland": true,
           "subunitcolor": "white"
          },
          "hoverlabel": {
           "align": "left"
          },
          "hovermode": "closest",
          "mapbox": {
           "style": "light"
          },
          "paper_bgcolor": "white",
          "plot_bgcolor": "#E5ECF6",
          "polar": {
           "angularaxis": {
            "gridcolor": "white",
            "linecolor": "white",
            "ticks": ""
           },
           "bgcolor": "#E5ECF6",
           "radialaxis": {
            "gridcolor": "white",
            "linecolor": "white",
            "ticks": ""
           }
          },
          "scene": {
           "xaxis": {
            "backgroundcolor": "#E5ECF6",
            "gridcolor": "white",
            "gridwidth": 2,
            "linecolor": "white",
            "showbackground": true,
            "ticks": "",
            "zerolinecolor": "white"
           },
           "yaxis": {
            "backgroundcolor": "#E5ECF6",
            "gridcolor": "white",
            "gridwidth": 2,
            "linecolor": "white",
            "showbackground": true,
            "ticks": "",
            "zerolinecolor": "white"
           },
           "zaxis": {
            "backgroundcolor": "#E5ECF6",
            "gridcolor": "white",
            "gridwidth": 2,
            "linecolor": "white",
            "showbackground": true,
            "ticks": "",
            "zerolinecolor": "white"
           }
          },
          "shapedefaults": {
           "line": {
            "color": "#2a3f5f"
           }
          },
          "ternary": {
           "aaxis": {
            "gridcolor": "white",
            "linecolor": "white",
            "ticks": ""
           },
           "baxis": {
            "gridcolor": "white",
            "linecolor": "white",
            "ticks": ""
           },
           "bgcolor": "#E5ECF6",
           "caxis": {
            "gridcolor": "white",
            "linecolor": "white",
            "ticks": ""
           }
          },
          "title": {
           "x": 0.05
          },
          "xaxis": {
           "automargin": true,
           "gridcolor": "white",
           "linecolor": "white",
           "ticks": "",
           "title": {
            "standoff": 15
           },
           "zerolinecolor": "white",
           "zerolinewidth": 2
          },
          "yaxis": {
           "automargin": true,
           "gridcolor": "white",
           "linecolor": "white",
           "ticks": "",
           "title": {
            "standoff": 15
           },
           "zerolinecolor": "white",
           "zerolinewidth": 2
          }
         }
        },
        "title": {
         "text": "Average T2M_MAX by Day of Year"
        },
        "xaxis": {
         "anchor": "y",
         "domain": [
          0,
          1
         ],
         "title": {
          "text": "Day of Year"
         }
        },
        "yaxis": {
         "anchor": "x",
         "domain": [
          0,
          1
         ],
         "title": {
          "text": "T2M_MIN"
         }
        }
       }
      }
     },
     "metadata": {},
     "output_type": "display_data"
    }
   ],
   "source": [
    "import plotly.express as px\n",
    "\n",
    "# Group by day_of_year and calculate the average T2M_MAX\n",
    "avg_t2m_max = df.groupby('day_of_year')['T2M_MIN'].mean().reset_index()\n",
    "\n",
    "# Create interactive plot\n",
    "fig = px.line(\n",
    "    avg_t2m_max,\n",
    "    x='day_of_year',\n",
    "    y='T2M_MIN',\n",
    "    title='Average T2M_MAX by Day of Year',\n",
    "    labels={'day_of_year': 'Day of Year', 'T2M_MAX': 'Average T2M_MAX (°C)'}\n",
    ")\n",
    "fig.show()"
   ]
  },
  {
   "cell_type": "code",
   "execution_count": null,
   "id": "acc775a6",
   "metadata": {},
   "outputs": [],
   "source": []
  }
 ],
 "metadata": {
  "kernelspec": {
   "display_name": "nasa_power_dashboard",
   "language": "python",
   "name": "python3"
  },
  "language_info": {
   "codemirror_mode": {
    "name": "ipython",
    "version": 3
   },
   "file_extension": ".py",
   "mimetype": "text/x-python",
   "name": "python",
   "nbconvert_exporter": "python",
   "pygments_lexer": "ipython3",
   "version": "3.11.11"
  }
 },
 "nbformat": 4,
 "nbformat_minor": 5
}
